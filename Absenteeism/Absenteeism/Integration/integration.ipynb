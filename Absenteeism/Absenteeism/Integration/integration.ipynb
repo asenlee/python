{
 "cells": [
  {
   "cell_type": "code",
   "execution_count": 1,
   "id": "bcabf6d4-8908-48a7-b625-4b47d30d3e1e",
   "metadata": {},
   "outputs": [],
   "source": [
    "from absenteeism_module import *"
   ]
  },
  {
   "cell_type": "code",
   "execution_count": 2,
   "id": "9a18aef6-3662-422d-ab9b-99eb27960814",
   "metadata": {},
   "outputs": [
    {
     "data": {
      "text/html": [
       "<div>\n",
       "<style scoped>\n",
       "    .dataframe tbody tr th:only-of-type {\n",
       "        vertical-align: middle;\n",
       "    }\n",
       "\n",
       "    .dataframe tbody tr th {\n",
       "        vertical-align: top;\n",
       "    }\n",
       "\n",
       "    .dataframe thead th {\n",
       "        text-align: right;\n",
       "    }\n",
       "</style>\n",
       "<table border=\"1\" class=\"dataframe\">\n",
       "  <thead>\n",
       "    <tr style=\"text-align: right;\">\n",
       "      <th></th>\n",
       "      <th>ID</th>\n",
       "      <th>Reason for Absence</th>\n",
       "      <th>Date</th>\n",
       "      <th>Transportation Expense</th>\n",
       "      <th>Distance to Work</th>\n",
       "      <th>Age</th>\n",
       "      <th>Daily Work Load Average</th>\n",
       "      <th>Body Mass Index</th>\n",
       "      <th>Education</th>\n",
       "      <th>Children</th>\n",
       "      <th>Pets</th>\n",
       "    </tr>\n",
       "  </thead>\n",
       "  <tbody>\n",
       "    <tr>\n",
       "      <th>0</th>\n",
       "      <td>22</td>\n",
       "      <td>27</td>\n",
       "      <td>01/06/2018</td>\n",
       "      <td>179</td>\n",
       "      <td>26</td>\n",
       "      <td>30</td>\n",
       "      <td>237.656</td>\n",
       "      <td>19</td>\n",
       "      <td>3</td>\n",
       "      <td>0</td>\n",
       "      <td>0</td>\n",
       "    </tr>\n",
       "    <tr>\n",
       "      <th>1</th>\n",
       "      <td>10</td>\n",
       "      <td>7</td>\n",
       "      <td>04/06/2018</td>\n",
       "      <td>361</td>\n",
       "      <td>52</td>\n",
       "      <td>28</td>\n",
       "      <td>237.656</td>\n",
       "      <td>27</td>\n",
       "      <td>1</td>\n",
       "      <td>1</td>\n",
       "      <td>4</td>\n",
       "    </tr>\n",
       "    <tr>\n",
       "      <th>2</th>\n",
       "      <td>14</td>\n",
       "      <td>23</td>\n",
       "      <td>06/06/2018</td>\n",
       "      <td>155</td>\n",
       "      <td>12</td>\n",
       "      <td>34</td>\n",
       "      <td>237.656</td>\n",
       "      <td>25</td>\n",
       "      <td>1</td>\n",
       "      <td>2</td>\n",
       "      <td>0</td>\n",
       "    </tr>\n",
       "    <tr>\n",
       "      <th>3</th>\n",
       "      <td>17</td>\n",
       "      <td>25</td>\n",
       "      <td>08/06/2018</td>\n",
       "      <td>179</td>\n",
       "      <td>22</td>\n",
       "      <td>40</td>\n",
       "      <td>237.656</td>\n",
       "      <td>22</td>\n",
       "      <td>2</td>\n",
       "      <td>2</td>\n",
       "      <td>0</td>\n",
       "    </tr>\n",
       "    <tr>\n",
       "      <th>4</th>\n",
       "      <td>14</td>\n",
       "      <td>10</td>\n",
       "      <td>08/06/2018</td>\n",
       "      <td>155</td>\n",
       "      <td>12</td>\n",
       "      <td>34</td>\n",
       "      <td>237.656</td>\n",
       "      <td>25</td>\n",
       "      <td>1</td>\n",
       "      <td>2</td>\n",
       "      <td>0</td>\n",
       "    </tr>\n",
       "  </tbody>\n",
       "</table>\n",
       "</div>"
      ],
      "text/plain": [
       "   ID  Reason for Absence        Date  Transportation Expense  \\\n",
       "0  22                  27  01/06/2018                     179   \n",
       "1  10                   7  04/06/2018                     361   \n",
       "2  14                  23  06/06/2018                     155   \n",
       "3  17                  25  08/06/2018                     179   \n",
       "4  14                  10  08/06/2018                     155   \n",
       "\n",
       "   Distance to Work  Age  Daily Work Load Average  Body Mass Index  Education  \\\n",
       "0                26   30                  237.656               19          3   \n",
       "1                52   28                  237.656               27          1   \n",
       "2                12   34                  237.656               25          1   \n",
       "3                22   40                  237.656               22          2   \n",
       "4                12   34                  237.656               25          1   \n",
       "\n",
       "   Children  Pets  \n",
       "0         0     0  \n",
       "1         1     4  \n",
       "2         2     0  \n",
       "3         2     0  \n",
       "4         2     0  "
      ]
     },
     "execution_count": 2,
     "metadata": {},
     "output_type": "execute_result"
    }
   ],
   "source": [
    "pd.read_csv('Absenteeism_new_data.csv').head()"
   ]
  },
  {
   "cell_type": "code",
   "execution_count": 3,
   "id": "192208dc-e911-44a1-be2b-ceed28c79279",
   "metadata": {},
   "outputs": [],
   "source": [
    "model = absenteeism_model('model', 'scaler')"
   ]
  },
  {
   "cell_type": "code",
   "execution_count": 4,
   "id": "6c1f90b2-dba6-47f0-9955-4e01b11cd04c",
   "metadata": {},
   "outputs": [],
   "source": [
    "model.load_and_clean_data('Absenteeism_new_data.csv')"
   ]
  },
  {
   "cell_type": "code",
   "execution_count": 5,
   "id": "40000a7e-2aed-4d75-8782-609e3fe27908",
   "metadata": {},
   "outputs": [],
   "source": [
    "# Install a conda package in the current Jupyter kernel\n",
    "# import sys\n",
    "# !conda install --yes --prefix {sys.prefix} pymysql"
   ]
  },
  {
   "cell_type": "code",
   "execution_count": 6,
   "id": "64db14f5-0a1e-493c-802f-3fe3d1dd741a",
   "metadata": {},
   "outputs": [],
   "source": [
    "import pymysql"
   ]
  },
  {
   "cell_type": "code",
   "execution_count": 7,
   "id": "d07537a1-61a7-4dd0-8022-adf0bb541d8a",
   "metadata": {},
   "outputs": [],
   "source": [
    "conn = pymysql.connect(database = 'predicted_outputs', user = 'root', password = 'Wcal990405!')"
   ]
  },
  {
   "cell_type": "code",
   "execution_count": 8,
   "id": "2224eb54-42e6-47e2-ae90-bfb5b0b7d13c",
   "metadata": {},
   "outputs": [],
   "source": [
    "cursor = conn.cursor()"
   ]
  },
  {
   "cell_type": "code",
   "execution_count": 9,
   "id": "6c80c205-2209-4235-9c2c-b00cff5727d4",
   "metadata": {},
   "outputs": [],
   "source": [
    "df_new_obs = model.predicted_outputs()"
   ]
  },
  {
   "cell_type": "code",
   "execution_count": 10,
   "id": "9e83455f-a5ac-4072-b222-8c200381de24",
   "metadata": {},
   "outputs": [
    {
     "data": {
      "text/html": [
       "<div>\n",
       "<style scoped>\n",
       "    .dataframe tbody tr th:only-of-type {\n",
       "        vertical-align: middle;\n",
       "    }\n",
       "\n",
       "    .dataframe tbody tr th {\n",
       "        vertical-align: top;\n",
       "    }\n",
       "\n",
       "    .dataframe thead th {\n",
       "        text-align: right;\n",
       "    }\n",
       "</style>\n",
       "<table border=\"1\" class=\"dataframe\">\n",
       "  <thead>\n",
       "    <tr style=\"text-align: right;\">\n",
       "      <th></th>\n",
       "      <th>Reason_1</th>\n",
       "      <th>Reason_2</th>\n",
       "      <th>Reason_3</th>\n",
       "      <th>Reason_4</th>\n",
       "      <th>Month Value</th>\n",
       "      <th>Transportation Expense</th>\n",
       "      <th>Age</th>\n",
       "      <th>Body Mass Index</th>\n",
       "      <th>Education</th>\n",
       "      <th>Children</th>\n",
       "      <th>Pets</th>\n",
       "      <th>Probability</th>\n",
       "      <th>Prediction</th>\n",
       "    </tr>\n",
       "  </thead>\n",
       "  <tbody>\n",
       "    <tr>\n",
       "      <th>0</th>\n",
       "      <td>0</td>\n",
       "      <td>0.0</td>\n",
       "      <td>0</td>\n",
       "      <td>1</td>\n",
       "      <td>6</td>\n",
       "      <td>179</td>\n",
       "      <td>30</td>\n",
       "      <td>19</td>\n",
       "      <td>1</td>\n",
       "      <td>0</td>\n",
       "      <td>0</td>\n",
       "      <td>0.113927</td>\n",
       "      <td>0</td>\n",
       "    </tr>\n",
       "    <tr>\n",
       "      <th>1</th>\n",
       "      <td>1</td>\n",
       "      <td>0.0</td>\n",
       "      <td>0</td>\n",
       "      <td>0</td>\n",
       "      <td>6</td>\n",
       "      <td>361</td>\n",
       "      <td>28</td>\n",
       "      <td>27</td>\n",
       "      <td>0</td>\n",
       "      <td>1</td>\n",
       "      <td>4</td>\n",
       "      <td>0.871085</td>\n",
       "      <td>1</td>\n",
       "    </tr>\n",
       "    <tr>\n",
       "      <th>2</th>\n",
       "      <td>0</td>\n",
       "      <td>0.0</td>\n",
       "      <td>0</td>\n",
       "      <td>1</td>\n",
       "      <td>6</td>\n",
       "      <td>155</td>\n",
       "      <td>34</td>\n",
       "      <td>25</td>\n",
       "      <td>0</td>\n",
       "      <td>2</td>\n",
       "      <td>0</td>\n",
       "      <td>0.292554</td>\n",
       "      <td>0</td>\n",
       "    </tr>\n",
       "    <tr>\n",
       "      <th>3</th>\n",
       "      <td>0</td>\n",
       "      <td>0.0</td>\n",
       "      <td>0</td>\n",
       "      <td>1</td>\n",
       "      <td>6</td>\n",
       "      <td>179</td>\n",
       "      <td>40</td>\n",
       "      <td>22</td>\n",
       "      <td>1</td>\n",
       "      <td>2</td>\n",
       "      <td>0</td>\n",
       "      <td>0.206714</td>\n",
       "      <td>0</td>\n",
       "    </tr>\n",
       "    <tr>\n",
       "      <th>4</th>\n",
       "      <td>1</td>\n",
       "      <td>0.0</td>\n",
       "      <td>0</td>\n",
       "      <td>0</td>\n",
       "      <td>6</td>\n",
       "      <td>155</td>\n",
       "      <td>34</td>\n",
       "      <td>25</td>\n",
       "      <td>0</td>\n",
       "      <td>2</td>\n",
       "      <td>0</td>\n",
       "      <td>0.756097</td>\n",
       "      <td>1</td>\n",
       "    </tr>\n",
       "  </tbody>\n",
       "</table>\n",
       "</div>"
      ],
      "text/plain": [
       "   Reason_1  Reason_2  Reason_3  Reason_4  Month Value  \\\n",
       "0         0       0.0         0         1            6   \n",
       "1         1       0.0         0         0            6   \n",
       "2         0       0.0         0         1            6   \n",
       "3         0       0.0         0         1            6   \n",
       "4         1       0.0         0         0            6   \n",
       "\n",
       "   Transportation Expense  Age  Body Mass Index  Education  Children  Pets  \\\n",
       "0                     179   30               19          1         0     0   \n",
       "1                     361   28               27          0         1     4   \n",
       "2                     155   34               25          0         2     0   \n",
       "3                     179   40               22          1         2     0   \n",
       "4                     155   34               25          0         2     0   \n",
       "\n",
       "   Probability  Prediction  \n",
       "0     0.113927           0  \n",
       "1     0.871085           1  \n",
       "2     0.292554           0  \n",
       "3     0.206714           0  \n",
       "4     0.756097           1  "
      ]
     },
     "execution_count": 10,
     "metadata": {},
     "output_type": "execute_result"
    }
   ],
   "source": [
    "df_new_obs.head()"
   ]
  },
  {
   "cell_type": "code",
   "execution_count": 11,
   "id": "24146feb-9528-42c3-897f-5a2fc706b5db",
   "metadata": {},
   "outputs": [
    {
     "data": {
      "text/plain": [
       "0"
      ]
     },
     "execution_count": 11,
     "metadata": {},
     "output_type": "execute_result"
    }
   ],
   "source": [
    "# no information stored yet - will return 0\n",
    "cursor.execute('SELECT * FROM predicted_outputs;')"
   ]
  },
  {
   "cell_type": "code",
   "execution_count": 12,
   "id": "198543d9-be04-4260-927f-1c8536560244",
   "metadata": {},
   "outputs": [],
   "source": [
    "insert_query = 'INSERT INTO predicted_outputs VALUES '"
   ]
  },
  {
   "cell_type": "code",
   "execution_count": 13,
   "id": "3f289a5f-135b-4a4e-96e0-67d9552755f8",
   "metadata": {},
   "outputs": [
    {
     "data": {
      "text/plain": [
       "(40, 13)"
      ]
     },
     "execution_count": 13,
     "metadata": {},
     "output_type": "execute_result"
    }
   ],
   "source": [
    "df_new_obs.shape"
   ]
  },
  {
   "cell_type": "code",
   "execution_count": 14,
   "id": "315e993e-b97c-45fa-854a-e301666b8b55",
   "metadata": {},
   "outputs": [
    {
     "data": {
      "text/plain": [
       "array(['Reason_1', 'Reason_2', 'Reason_3', 'Reason_4', 'Month Value',\n",
       "       'Transportation Expense', 'Age', 'Body Mass Index', 'Education',\n",
       "       'Children', 'Pets', 'Probability', 'Prediction'], dtype=object)"
      ]
     },
     "execution_count": 14,
     "metadata": {},
     "output_type": "execute_result"
    }
   ],
   "source": [
    "df_new_obs.columns.values"
   ]
  },
  {
   "cell_type": "code",
   "execution_count": 15,
   "id": "71c172b1-6efc-4628-9a88-816abe38c68e",
   "metadata": {},
   "outputs": [],
   "source": [
    "for i in range(df_new_obs.shape[0]):\n",
    "    insert_query += '('\n",
    "    \n",
    "    for j in range(df_new_obs.shape[1]):\n",
    "        insert_query += str(df_new_obs[df_new_obs.columns.values[j]][i]) + ', '\n",
    "        \n",
    "    insert_query = insert_query[:-2] + '), '"
   ]
  },
  {
   "cell_type": "code",
   "execution_count": 16,
   "id": "8b78fb60-78d1-4da2-aed7-ab107114147e",
   "metadata": {},
   "outputs": [
    {
     "data": {
      "text/plain": [
       "'INSERT INTO predicted_outputs VALUES (0, 0.0, 0, 1, 6, 179, 30, 19, 1, 0, 0, 0.11392723976518346, 0), (1, 0.0, 0, 0, 6, 361, 28, 27, 0, 1, 4, 0.8710849246652652, 1), (0, 0.0, 0, 1, 6, 155, 34, 25, 0, 2, 0, 0.2925540706927035, 0), (0, 0.0, 0, 1, 6, 179, 40, 22, 1, 2, 0, 0.206713917884372, 0), (1, 0.0, 0, 0, 6, 155, 34, 25, 0, 2, 0, 0.7560969426726329, 1), (1, 0.0, 0, 0, 6, 225, 28, 24, 0, 1, 2, 0.7225263278489328, 1), (1, 0.0, 0, 0, 6, 118, 46, 25, 0, 2, 0, 0.586702313359471, 1), (0, 0.0, 0, 1, 6, 179, 30, 19, 1, 0, 0, 0.11392723976518346, 0), (0, 0.0, 0, 1, 6, 118, 37, 28, 0, 0, 0, 0.12747004586038171, 0), (1, 0.0, 0, 0, 6, 118, 37, 28, 0, 0, 0, 0.5227080856964466, 1), (0, 0.0, 0, 1, 6, 378, 36, 21, 0, 2, 4, 0.423663823737825, 0), (0, 0.0, 1, 0, 6, 118, 50, 31, 0, 1, 0, 0.6194628916292801, 1), (0, 0.0, 1, 0, 6, 233, 31, 21, 1, 1, 8, 0.27638775163596385, 0), (0, 0.0, 0, 1, 6, 179, 30, 19, 1, 0, 0, 0.11392723976518346, 0), (0, 0.0, 0, 0, 6, 235, 48, 33, 0, 1, 5, 0.07015642779168557, 0), (0, 0.0, 0, 0, 6, 268, 33, 25, 1, 0, 0, 0.1610467822848017, 0), (0, 0.0, 1, 0, 6, 118, 50, 31, 0, 1, 0, 0.6194628916292801, 1), (1, 0.0, 0, 0, 6, 179, 30, 19, 1, 0, 0, 0.4907938858307604, 0), (0, 0.0, 0, 1, 6, 291, 40, 25, 0, 1, 1, 0.3696653720262595, 0), (1, 0.0, 0, 0, 7, 179, 30, 19, 1, 0, 0, 0.5012003446421152, 1), (0, 0.0, 0, 1, 7, 118, 37, 28, 0, 0, 0, 0.13217244251784713, 0), (0, 0.0, 0, 1, 7, 233, 31, 21, 1, 1, 8, 0.04107946910563894, 0), (1, 0.0, 0, 0, 7, 118, 37, 28, 0, 0, 0, 0.5330828146235599, 1), (1, 0.0, 0, 0, 7, 118, 37, 28, 0, 0, 0, 0.5330828146235599, 1), (0, 0.0, 0, 1, 7, 233, 31, 21, 1, 1, 8, 0.04107946910563894, 0), (0, 0.0, 0, 1, 7, 235, 43, 38, 0, 1, 0, 0.5500394171530409, 1), (0, 0.0, 1, 0, 7, 233, 31, 21, 1, 1, 8, 0.28479066045841195, 0), (1, 0.0, 0, 0, 7, 228, 58, 22, 0, 2, 1, 0.6118370100191417, 1), (0, 0.0, 0, 1, 7, 118, 37, 28, 0, 0, 0, 0.13217244251784713, 0), (1, 0.0, 0, 0, 7, 228, 58, 22, 0, 2, 1, 0.6118370100191417, 1), (0, 0.0, 0, 1, 7, 189, 33, 25, 0, 2, 2, 0.26201895376152506, 0), (0, 0.0, 0, 1, 7, 118, 37, 28, 0, 0, 0, 0.13217244251784713, 0), (0, 0.0, 0, 1, 7, 361, 28, 27, 0, 1, 4, 0.48445630286676294, 0), (0, 0.0, 0, 1, 7, 225, 28, 24, 0, 1, 2, 0.2658555597830466, 0), (1, 0.0, 0, 0, 7, 369, 31, 25, 0, 3, 0, 0.9752901157541882, 1), (1, 0.0, 0, 0, 7, 289, 33, 30, 0, 2, 1, 0.9294533887605418, 1), (1, 0.0, 0, 0, 7, 235, 37, 29, 1, 1, 1, 0.7711508834139448, 1), (0, 0.0, 0, 0, 7, 118, 40, 34, 0, 1, 8, 0.016828050116118203, 0), (0, 0.0, 0, 0, 7, 231, 39, 35, 0, 2, 2, 0.2980816885745161, 0), (0, 0.0, 0, 0, 7, 179, 53, 25, 0, 1, 1, 0.057430346118996126, 0), '"
      ]
     },
     "execution_count": 16,
     "metadata": {},
     "output_type": "execute_result"
    }
   ],
   "source": [
    "insert_query"
   ]
  },
  {
   "cell_type": "code",
   "execution_count": 17,
   "id": "3c7d89fa-5657-4041-9ee1-e341ba4d1dbd",
   "metadata": {},
   "outputs": [],
   "source": [
    "insert_query = insert_query[:-2] + ';'"
   ]
  },
  {
   "cell_type": "code",
   "execution_count": 18,
   "id": "0bccbb5a-722f-4f9a-aa67-a5eb2fa223d0",
   "metadata": {},
   "outputs": [
    {
     "data": {
      "text/plain": [
       "'INSERT INTO predicted_outputs VALUES (0, 0.0, 0, 1, 6, 179, 30, 19, 1, 0, 0, 0.11392723976518346, 0), (1, 0.0, 0, 0, 6, 361, 28, 27, 0, 1, 4, 0.8710849246652652, 1), (0, 0.0, 0, 1, 6, 155, 34, 25, 0, 2, 0, 0.2925540706927035, 0), (0, 0.0, 0, 1, 6, 179, 40, 22, 1, 2, 0, 0.206713917884372, 0), (1, 0.0, 0, 0, 6, 155, 34, 25, 0, 2, 0, 0.7560969426726329, 1), (1, 0.0, 0, 0, 6, 225, 28, 24, 0, 1, 2, 0.7225263278489328, 1), (1, 0.0, 0, 0, 6, 118, 46, 25, 0, 2, 0, 0.586702313359471, 1), (0, 0.0, 0, 1, 6, 179, 30, 19, 1, 0, 0, 0.11392723976518346, 0), (0, 0.0, 0, 1, 6, 118, 37, 28, 0, 0, 0, 0.12747004586038171, 0), (1, 0.0, 0, 0, 6, 118, 37, 28, 0, 0, 0, 0.5227080856964466, 1), (0, 0.0, 0, 1, 6, 378, 36, 21, 0, 2, 4, 0.423663823737825, 0), (0, 0.0, 1, 0, 6, 118, 50, 31, 0, 1, 0, 0.6194628916292801, 1), (0, 0.0, 1, 0, 6, 233, 31, 21, 1, 1, 8, 0.27638775163596385, 0), (0, 0.0, 0, 1, 6, 179, 30, 19, 1, 0, 0, 0.11392723976518346, 0), (0, 0.0, 0, 0, 6, 235, 48, 33, 0, 1, 5, 0.07015642779168557, 0), (0, 0.0, 0, 0, 6, 268, 33, 25, 1, 0, 0, 0.1610467822848017, 0), (0, 0.0, 1, 0, 6, 118, 50, 31, 0, 1, 0, 0.6194628916292801, 1), (1, 0.0, 0, 0, 6, 179, 30, 19, 1, 0, 0, 0.4907938858307604, 0), (0, 0.0, 0, 1, 6, 291, 40, 25, 0, 1, 1, 0.3696653720262595, 0), (1, 0.0, 0, 0, 7, 179, 30, 19, 1, 0, 0, 0.5012003446421152, 1), (0, 0.0, 0, 1, 7, 118, 37, 28, 0, 0, 0, 0.13217244251784713, 0), (0, 0.0, 0, 1, 7, 233, 31, 21, 1, 1, 8, 0.04107946910563894, 0), (1, 0.0, 0, 0, 7, 118, 37, 28, 0, 0, 0, 0.5330828146235599, 1), (1, 0.0, 0, 0, 7, 118, 37, 28, 0, 0, 0, 0.5330828146235599, 1), (0, 0.0, 0, 1, 7, 233, 31, 21, 1, 1, 8, 0.04107946910563894, 0), (0, 0.0, 0, 1, 7, 235, 43, 38, 0, 1, 0, 0.5500394171530409, 1), (0, 0.0, 1, 0, 7, 233, 31, 21, 1, 1, 8, 0.28479066045841195, 0), (1, 0.0, 0, 0, 7, 228, 58, 22, 0, 2, 1, 0.6118370100191417, 1), (0, 0.0, 0, 1, 7, 118, 37, 28, 0, 0, 0, 0.13217244251784713, 0), (1, 0.0, 0, 0, 7, 228, 58, 22, 0, 2, 1, 0.6118370100191417, 1), (0, 0.0, 0, 1, 7, 189, 33, 25, 0, 2, 2, 0.26201895376152506, 0), (0, 0.0, 0, 1, 7, 118, 37, 28, 0, 0, 0, 0.13217244251784713, 0), (0, 0.0, 0, 1, 7, 361, 28, 27, 0, 1, 4, 0.48445630286676294, 0), (0, 0.0, 0, 1, 7, 225, 28, 24, 0, 1, 2, 0.2658555597830466, 0), (1, 0.0, 0, 0, 7, 369, 31, 25, 0, 3, 0, 0.9752901157541882, 1), (1, 0.0, 0, 0, 7, 289, 33, 30, 0, 2, 1, 0.9294533887605418, 1), (1, 0.0, 0, 0, 7, 235, 37, 29, 1, 1, 1, 0.7711508834139448, 1), (0, 0.0, 0, 0, 7, 118, 40, 34, 0, 1, 8, 0.016828050116118203, 0), (0, 0.0, 0, 0, 7, 231, 39, 35, 0, 2, 2, 0.2980816885745161, 0), (0, 0.0, 0, 0, 7, 179, 53, 25, 0, 1, 1, 0.057430346118996126, 0);'"
      ]
     },
     "execution_count": 18,
     "metadata": {},
     "output_type": "execute_result"
    }
   ],
   "source": [
    "insert_query"
   ]
  },
  {
   "cell_type": "code",
   "execution_count": 19,
   "id": "abc5e056-14dd-45cd-8154-27876d910af8",
   "metadata": {},
   "outputs": [
    {
     "data": {
      "text/plain": [
       "40"
      ]
     },
     "execution_count": 19,
     "metadata": {},
     "output_type": "execute_result"
    }
   ],
   "source": [
    "cursor.execute(insert_query)"
   ]
  },
  {
   "cell_type": "code",
   "execution_count": 20,
   "id": "3151889a-08c3-4c60-8043-165684373709",
   "metadata": {},
   "outputs": [],
   "source": [
    "conn.commit()"
   ]
  },
  {
   "cell_type": "code",
   "execution_count": 21,
   "id": "8e2ae622-9e35-419d-8d75-2878a9afbd4a",
   "metadata": {},
   "outputs": [],
   "source": [
    "conn.close()"
   ]
  }
 ],
 "metadata": {
  "kernelspec": {
   "display_name": "Python [conda env:cpsc330]",
   "language": "python",
   "name": "conda-env-cpsc330-py"
  },
  "language_info": {
   "codemirror_mode": {
    "name": "ipython",
    "version": 3
   },
   "file_extension": ".py",
   "mimetype": "text/x-python",
   "name": "python",
   "nbconvert_exporter": "python",
   "pygments_lexer": "ipython3",
   "version": "3.9.7"
  }
 },
 "nbformat": 4,
 "nbformat_minor": 5
}
